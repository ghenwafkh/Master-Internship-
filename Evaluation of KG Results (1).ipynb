{
 "cells": [
  {
   "cell_type": "code",
   "execution_count": 14,
   "metadata": {},
   "outputs": [],
   "source": [
    "import pandas as pd\n",
    "labeled_corpus=pd.read_csv(r\"C:\\Users\\LENOVO\\Desktop\\cs_gs.csv\")\n",
    "freq=labeled_corpus['freq']\n",
    "terms=labeled_corpus['term']\n",
    "labels=labeled_corpus['label']\n",
    "terms_list=terms.values\n",
    "terms_list=list(terms_list)"
   ]
  },
  {
   "cell_type": "code",
   "execution_count": 15,
   "metadata": {},
   "outputs": [],
   "source": [
    "import os\n",
    "import pandas as pd\n",
    "CCS=[]\n",
    "path=\"C:\\\\Users\\\\LENOVO\\\\Documents\\\\KG-results\"\n",
    "files = os.listdir(path)\n",
    "for file in files:\n",
    "    file_path=path+\"\\\\\"+file\n",
    "    taxonomy=pd.read_csv(file_path)\n",
    "    CC=taxonomy['label']\n",
    "    CC=CC.values\n",
    "    CC=list(CC)\n",
    "    CCS.append(CC)"
   ]
  },
  {
   "cell_type": "markdown",
   "metadata": {},
   "source": [
    "**Pre-processing Knowledge graph extracted terms**"
   ]
  },
  {
   "cell_type": "code",
   "execution_count": 16,
   "metadata": {},
   "outputs": [],
   "source": [
    "CCS_preprocessed_terms=[]\n",
    "for CC in CCS:\n",
    "    CC_terms=[]\n",
    "    for term in CC:\n",
    "        term=str(term)\n",
    "        if(term !=\"nan\"):\n",
    "            term=term.lower()\n",
    "            term=term.replace(\" \",\"_\")\n",
    "            CC_terms.append(term)\n",
    "    CCS_preprocessed_terms.append(CC_terms)   "
   ]
  },
  {
   "cell_type": "code",
   "execution_count": 17,
   "metadata": {},
   "outputs": [],
   "source": [
    "def compute_recall(KG_vocab,label):\n",
    "    TP=0\n",
    "    FN=0\n",
    "    for term in KG_vocab:\n",
    "        if (term in terms_list):\n",
    "            id=terms_list.index(term)\n",
    "            true_label=labels[id]\n",
    "            if (true_label==label):\n",
    "                TP=TP+1\n",
    "    for term in terms_list:\n",
    "        id=terms_list.index(term)\n",
    "        true_label=labels[id]\n",
    "        if((term not in KG_vocab) and (true_label==label)):\n",
    "            FN=FN+1\n",
    "    recall=TP/(TP+FN)\n",
    "    return recall"
   ]
  },
  {
   "cell_type": "code",
   "execution_count": 23,
   "metadata": {},
   "outputs": [
    {
     "name": "stdout",
     "output_type": "stream",
     "text": [
      "The recall of the core concept computer_graphics : 0.005420054200542005 \n",
      "The recall of the core concept computer_programming : 0.03821656050955414 \n",
      "The recall of the core concept cryptography : 0.021739130434782608 \n",
      "The recall of the core concept distributed_computing : 0.005988023952095809 \n",
      "The recall of the core concept data_structures : 0.033846153846153845 \n",
      "The recall of the core concept machine_learning : 0.056856187290969896 \n",
      "The recall of the core concept operating_systems : 0.03529411764705882 \n",
      "The recall of the core concept software_engineering : 0.020080321285140562 \n"
     ]
    }
   ],
   "source": [
    "labels_str=['computer_graphics','computer_programming','cryptography','distributed_computing','data_structures','machine_learning','operating_systems','software_engineering']\n",
    "for i in range(8):\n",
    "    recall=compute_recall(CCS_preprocessed_terms[i],labels_str[i])\n",
    "    print(\"The recall of the core concept {} : {} \".format(labels_str[i],recall))\n",
    "    "
   ]
  },
  {
   "cell_type": "code",
   "execution_count": 21,
   "metadata": {},
   "outputs": [],
   "source": [
    "def micro_precision(KG_vocab,label):\n",
    "    TP=0\n",
    "    FP=0\n",
    "    for term in KG_vocab:\n",
    "        if (term in terms_list):\n",
    "            id=terms_list.index(term)\n",
    "            true_label=labels[id]\n",
    "            if (true_label==label):\n",
    "                TP=TP+1\n",
    "            else: \n",
    "                FP=FP+1\n",
    "    precision=TP/(TP+FP)\n",
    "    return(precision)"
   ]
  },
  {
   "cell_type": "code",
   "execution_count": 24,
   "metadata": {},
   "outputs": [
    {
     "name": "stdout",
     "output_type": "stream",
     "text": [
      "The precision of the core concept computer_graphics : 0.6666666666666666 \n",
      "The precision of the core concept computer_programming : 0.6 \n",
      "The precision of the core concept cryptography : 1.0 \n",
      "The precision of the core concept distributed_computing : 1.0 \n",
      "The precision of the core concept data_structures : 0.28205128205128205 \n",
      "The precision of the core concept machine_learning : 0.7391304347826086 \n",
      "The precision of the core concept operating_systems : 0.75 \n",
      "The precision of the core concept software_engineering : 0.8333333333333334 \n"
     ]
    }
   ],
   "source": [
    "labels_str=['computer_graphics','computer_programming','cryptography','distributed_computing','data_structures','machine_learning','operating_systems','software_engineering']\n",
    "for i in range(8):\n",
    "    precision=micro_precision(CCS_preprocessed_terms[i],labels_str[i])\n",
    "    print(\"The precision of the core concept {} : {} \".format(labels_str[i],precision))"
   ]
  },
  {
   "cell_type": "code",
   "execution_count": null,
   "metadata": {},
   "outputs": [],
   "source": []
  }
 ],
 "metadata": {
  "kernelspec": {
   "display_name": "Python 3",
   "language": "python",
   "name": "python3"
  },
  "language_info": {
   "codemirror_mode": {
    "name": "ipython",
    "version": 3
   },
   "file_extension": ".py",
   "mimetype": "text/x-python",
   "name": "python",
   "nbconvert_exporter": "python",
   "pygments_lexer": "ipython3",
   "version": "3.8.3"
  }
 },
 "nbformat": 4,
 "nbformat_minor": 4
}
